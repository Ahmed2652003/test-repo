{
 "cells": [
  {
   "cell_type": "code",
   "execution_count": null,
   "id": "b1867ea7-a6d6-494b-a574-6a8929515720",
   "metadata": {},
   "outputs": [],
   "source": []
  }
 ],
 "metadata": {
  "kernelspec": {
   "display_name": "",
   "name": ""
  },
  "language_info": {
   "name": ""
  }
 },
 "nbformat": 4,
 "nbformat_minor": 5
}
