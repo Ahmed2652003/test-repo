{
 "cells": [
  {
   "cell_type": "markdown",
   "id": "f3bff8d4-5e39-469e-8d0d-c9c55a6e3786",
   "metadata": {},
   "source": [
    "# Introduction & problem description"
   ]
  },
  {
   "cell_type": "markdown",
   "id": "af940c84-1c52-43e0-b720-cf5f6a4d7346",
   "metadata": {},
   "source": [
    "## Introduction"
   ]
  },
  {
   "cell_type": "markdown",
   "id": "a27eb8d8-ca47-497f-8cb3-d5f4dc40b2e4",
   "metadata": {},
   "source": [
    "### Millions of people are using Twitter and expressing their emotions like happiness, sadness, angry, etc. The Sentiment analysis is also about detecting the emotions, opinion, assessment, attitudes, and took this into consideration as a way humans think. Sentiment analysis classifies the emotions into classes such as positive or negative. Nowadays, industries are interested to use textual data for semantic analysis to extract the view of people about their products and services. Sentiment analysis is very important for them to know the customer satisfaction level and they can improve their services accordingly. To work on the text data, they try to extract the data from social media platforms. There are a lot of social media sites like Google Plus, Facebook, and Twitter that allow expressing opinions, views, and emotions about certain topics and events. Microblogging site Twitter is expanding rapidly among all other online social media networking sites with about 200 million users. Twitter was founded in 2006 and currently, it is the most famous microblogging platform. In 2017 2 million users shared 8.3 million tweets in one hour. Twitter users use to post their thoughts, emotions, and messages on their profiles, called tweets. Words limit of a single tweet has 140 characters. Twitter sentiment analysis based on the NLP (natural language processing) field. For tweets text, we use NLP techniques like tokenizing the words, removing the stop words like I, me, my, our, your, is, was, etc. Natural language processing also plays a part to preprocess the data like cleaning the text and removing the special characters and punctuation marks. Sentimental analysis is very important because we can know the trends of people’s emotions on specific topics with their tweets.\n",
    "\n"
   ]
  },
  {
   "cell_type": "markdown",
   "id": "f8ab30b6-dd18-4ea6-bdbb-227dbf28073f",
   "metadata": {},
   "source": [
    "## Problem description"
   ]
  },
  {
   "cell_type": "markdown",
   "id": "70b9a1e7-4e55-4ea1-972e-cda1b8e6f10d",
   "metadata": {},
   "source": [
    "### To devise a sentimental analyzer for overcoming the challenges to identify the twitter tweets text sentiments (positive, negative) by using naive bayes , support vector classifier and logistic regression"
   ]
  },
  {
   "cell_type": "code",
   "execution_count": null,
   "id": "30e42a62-6568-44f5-bf61-eb1417718fba",
   "metadata": {},
   "outputs": [],
   "source": []
  }
 ],
 "metadata": {
  "kernelspec": {
   "display_name": "Python 3 (ipykernel)",
   "language": "python",
   "name": "python3"
  },
  "language_info": {
   "codemirror_mode": {
    "name": "ipython",
    "version": 3
   },
   "file_extension": ".py",
   "mimetype": "text/x-python",
   "name": "python",
   "nbconvert_exporter": "python",
   "pygments_lexer": "ipython3",
   "version": "3.12.7"
  }
 },
 "nbformat": 4,
 "nbformat_minor": 5
}
